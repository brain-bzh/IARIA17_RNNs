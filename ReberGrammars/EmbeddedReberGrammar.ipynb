{
 "cells": [
  {
   "cell_type": "code",
   "execution_count": 1,
   "metadata": {
    "collapsed": true
   },
   "outputs": [],
   "source": [
    "%matplotlib inline\n",
    "import numpy as np\n",
    "import matplotlib.pyplot as plt\n",
    "import pylab as PP\n",
    "import reber as reb\n",
    "import RNNv\n",
    "import GRU\n",
    "np.random.seed(10)"
   ]
  },
  {
   "cell_type": "markdown",
   "metadata": {},
   "source": [
    "This notebook reproduce the experiment presented in *link* (part III).     \n",
    "__Please note:__ Due to randomicity figures might not be exactly the same as in the paper but the conclusions are.\n",
    "# Embedded Reber's grammar   \n",
    "This experiment was presented in the original LSTM paper: \"Long Short-Term Memory\", Hochreiter and Schmidhuber.   \n",
    "## Embdded Reber's grammar\n",
    "The following code present how to use the reber module with embedded strings.     \n",
    "It produces embedded Reber's strings and transforms them into basis vectors' sequences."
   ]
  },
  {
   "cell_type": "code",
   "execution_count": 2,
   "metadata": {
    "collapsed": false
   },
   "outputs": [
    {
     "name": "stdout",
     "output_type": "stream",
     "text": [
      "BTBPVPXTVVETE\n"
     ]
    },
    {
     "data": {
      "text/plain": [
       "[array([ 1.,  0.,  0.,  0.,  0.,  0.,  0.]),\n",
       " array([ 0.,  1.,  0.,  0.,  0.,  0.,  0.]),\n",
       " array([ 1.,  0.,  0.,  0.,  0.,  0.,  0.]),\n",
       " array([ 0.,  0.,  0.,  0.,  0.,  1.,  0.]),\n",
       " array([ 0.,  0.,  0.,  0.,  1.,  0.,  0.]),\n",
       " array([ 0.,  0.,  0.,  0.,  0.,  1.,  0.]),\n",
       " array([ 0.,  0.,  0.,  1.,  0.,  0.,  0.]),\n",
       " array([ 0.,  1.,  0.,  0.,  0.,  0.,  0.]),\n",
       " array([ 0.,  0.,  0.,  0.,  1.,  0.,  0.]),\n",
       " array([ 0.,  0.,  0.,  0.,  1.,  0.,  0.]),\n",
       " array([ 0.,  0.,  0.,  0.,  0.,  0.,  1.]),\n",
       " array([ 0.,  1.,  0.,  0.,  0.,  0.,  0.]),\n",
       " array([ 0.,  0.,  0.,  0.,  0.,  0.,  1.])]"
      ]
     },
     "execution_count": 2,
     "metadata": {},
     "output_type": "execute_result"
    }
   ],
   "source": [
    "r = reb.get_emb_reber()\n",
    "print(r)\n",
    "reb.reber_to_seq(r)"
   ]
  },
  {
   "cell_type": "markdown",
   "metadata": {},
   "source": [
    "## Dataset generation\n",
    "We generate a dataset in the classical ways for reccurent nets,   \n",
    "an example of the dataset is constitutes by two sequences.   \n",
    "The goal is to predict the ith entry of the second sequence when the net   \n",
    "is given the ith entry of the first one.    \n",
    "We print dataset[0] to give an example."
   ]
  },
  {
   "cell_type": "code",
   "execution_count": 3,
   "metadata": {
    "collapsed": false,
    "scrolled": true
   },
   "outputs": [
    {
     "data": {
      "text/plain": [
       "('BPBPVPXVPSEPE',\n",
       " [array([ 1.,  0.,  0.,  0.,  0.,  0.,  0.]),\n",
       "  array([ 0.,  0.,  0.,  0.,  0.,  1.,  0.]),\n",
       "  array([ 1.,  0.,  0.,  0.,  0.,  0.,  0.]),\n",
       "  array([ 0.,  0.,  0.,  0.,  0.,  1.,  0.]),\n",
       "  array([ 0.,  0.,  0.,  0.,  1.,  0.,  0.]),\n",
       "  array([ 0.,  0.,  0.,  0.,  0.,  1.,  0.]),\n",
       "  array([ 0.,  0.,  0.,  1.,  0.,  0.,  0.]),\n",
       "  array([ 0.,  0.,  0.,  0.,  1.,  0.,  0.]),\n",
       "  array([ 0.,  0.,  0.,  0.,  0.,  1.,  0.]),\n",
       "  array([ 0.,  0.,  1.,  0.,  0.,  0.,  0.]),\n",
       "  array([ 0.,  0.,  0.,  0.,  0.,  0.,  1.]),\n",
       "  array([ 0.,  0.,  0.,  0.,  0.,  1.,  0.])],\n",
       " [array([ 0.,  0.,  0.,  0.,  0.,  1.,  0.]),\n",
       "  array([ 1.,  0.,  0.,  0.,  0.,  0.,  0.]),\n",
       "  array([ 0.,  0.,  0.,  0.,  0.,  1.,  0.]),\n",
       "  array([ 0.,  0.,  0.,  0.,  1.,  0.,  0.]),\n",
       "  array([ 0.,  0.,  0.,  0.,  0.,  1.,  0.]),\n",
       "  array([ 0.,  0.,  0.,  1.,  0.,  0.,  0.]),\n",
       "  array([ 0.,  0.,  0.,  0.,  1.,  0.,  0.]),\n",
       "  array([ 0.,  0.,  0.,  0.,  0.,  1.,  0.]),\n",
       "  array([ 0.,  0.,  1.,  0.,  0.,  0.,  0.]),\n",
       "  array([ 0.,  0.,  0.,  0.,  0.,  0.,  1.]),\n",
       "  array([ 0.,  0.,  0.,  0.,  0.,  1.,  0.]),\n",
       "  array([ 0.,  0.,  0.,  0.,  0.,  0.,  1.])])"
      ]
     },
     "execution_count": 3,
     "metadata": {},
     "output_type": "execute_result"
    }
   ],
   "source": [
    "DATASET_SIZE = 256\n",
    "dataset = []\n",
    "for d in range(DATASET_SIZE):\n",
    "    reber_str = reb.get_emb_reber()\n",
    "    dataset.append((reber_str, reb.reber_to_seq(reber_str)[:-1], reb.reber_to_seq(reber_str)[1:]))\n",
    "dataset[0]"
   ]
  },
  {
   "cell_type": "markdown",
   "metadata": {},
   "source": [
    "# Vanilla RNNs\n",
    "## Model Definition\n",
    "We construct a Vanilla RNN with Theano.   \n",
    "Same setting as in the paper: 18 hidden units.   \n",
    "The Reber's alphabet is of size 7."
   ]
  },
  {
   "cell_type": "code",
   "execution_count": 4,
   "metadata": {
    "collapsed": false
   },
   "outputs": [
    {
     "name": "stdout",
     "output_type": "stream",
     "text": [
      "The vanilla model has: 594 parameters.\n"
     ]
    }
   ],
   "source": [
    "n_hidden = 18\n",
    "rnn = RNNv.RNNv(7,n_hidden,7)\n",
    "print('The vanilla model has: '+str(rnn.n_parameters)+' parameters.')"
   ]
  },
  {
   "cell_type": "markdown",
   "metadata": {},
   "source": [
    "## Training loop\n",
    "We apply a simple training process."
   ]
  },
  {
   "cell_type": "code",
   "execution_count": 5,
   "metadata": {
    "collapsed": false
   },
   "outputs": [
    {
     "name": "stdout",
     "output_type": "stream",
     "text": [
      "Iteration 0: error of 30.483889, lr of 0.001000\n",
      "Iteration 100: error of 4.833431, lr of 0.001000\n",
      "Iteration 200: error of 4.294545, lr of 0.001000\n",
      "Iteration 300: error of 4.132812, lr of 0.001000\n",
      "Iteration 400: error of 4.088785, lr of 0.001000\n",
      "Iteration 500: error of 4.071428, lr of 0.001000\n",
      "Iteration 600: error of 4.061998, lr of 0.001000\n",
      "Iteration 700: error of 4.055786, lr of 0.001000\n",
      "Iteration 800: error of 4.051148, lr of 0.001000\n",
      "Iteration 900: error of 4.047409, lr of 0.001000\n"
     ]
    }
   ],
   "source": [
    "n_epochs = 1000\n",
    "lr = 0.001\n",
    "\n",
    "epsilon = 1e-5\n",
    "\n",
    "h0 = np.zeros(n_hidden)\n",
    "\n",
    "last_err = 0.0\n",
    "for i in range(n_epochs):\n",
    "    dataset_err = []\n",
    "    for d in dataset:\n",
    "        dataset_err.append(rnn.train_step(h0,d[1],d[2],lr)[2])\n",
    "    \n",
    "    mean_err = np.mean(dataset_err)\n",
    "    \n",
    "    if i != 0 and last_err - mean_err < 0:\n",
    "        lr /= 2\n",
    "    \n",
    "    if i%(n_epochs/10) == 0:\n",
    "        print \"Iteration %d: error of %f, lr of %f\" % (i, mean_err, lr)\n",
    "    \n",
    "    if abs(last_err-mean_err) < epsilon:\n",
    "        print \"Early stopping, iteration %d: error of %f, lr of %f\" % (i, mean_err, lr)\n",
    "        break\n",
    "    \n",
    "    last_err = mean_err"
   ]
  },
  {
   "cell_type": "markdown",
   "metadata": {},
   "source": [
    "### Plotting results for Vanilla RNNs"
   ]
  },
  {
   "cell_type": "code",
   "execution_count": 6,
   "metadata": {
    "collapsed": true
   },
   "outputs": [],
   "source": [
    "def reber_heatmap(rnn_p, to_show, hidden_layer=True):\n",
    "    labels = []\n",
    "    if not hidden_layer:\n",
    "        # these labels are valid only\n",
    "        # if we plot over the output layer\n",
    "        labels = ['B', 'T', 'S', 'X', 'V', 'P', 'E']\n",
    "\n",
    "\n",
    "    the_map = []\n",
    "    for s in to_show:\n",
    "        s = s.split(\" \")\n",
    "        seq = reb.reber_to_seq(s[-1])\n",
    "        row = rnn_p.model(seq,h0)[int(hidden_layer)][-1]\n",
    "        the_map.append(row)\n",
    "        \n",
    "\n",
    "    fig = plt.figure(figsize=(5, 5))\n",
    "    ax = fig.add_subplot(111)\n",
    "    cax = ax.matshow(the_map, interpolation='nearest')\n",
    "    fig.colorbar(cax)\n",
    "    ax.set_xticklabels(['']+labels)\n",
    "    ax.set_yticklabels([''])\n",
    "    plt.yticks(range(0,len(to_show)),to_show)\n",
    "    plt.show()"
   ]
  },
  {
   "cell_type": "code",
   "execution_count": 7,
   "metadata": {
    "collapsed": false
   },
   "outputs": [
    {
     "data": {
      "image/png": "[encoded data removed]",
      "text/plain": [
       "<matplotlib.figure.Figure at 0x7fed86c42f50>"
      ]
     },
     "metadata": {},
     "output_type": "display_data"
    }
   ],
   "source": [
    "to_show = ['BPBTXSE','BTBTXSE']\n",
    "reber_heatmap(rnn, to_show, False)"
   ]
  },
  {
   "cell_type": "code",
   "execution_count": 8,
   "metadata": {
    "collapsed": false
   },
   "outputs": [
    {
     "data": {
      "image/png": "[encoded data removed]",
      "text/plain": [
       "<matplotlib.figure.Figure at 0x7fed86581090>"
      ]
     },
     "metadata": {},
     "output_type": "display_data"
    }
   ],
   "source": [
    "to_show = ['BPBTXSE','BTBTXSE']\n",
    "reber_heatmap(rnn, to_show)"
   ]
  },
  {
   "cell_type": "markdown",
   "metadata": {},
   "source": [
    "# GRU RNNs\n",
    "## Model Definition\n",
    "We construct a Vanilla RNN with Theano.   \n",
    "Same setting as in the paper: 10 hidden units.   \n",
    "The Reber's alphabet is of size 7."
   ]
  },
  {
   "cell_type": "code",
   "execution_count": 9,
   "metadata": {
    "collapsed": false
   },
   "outputs": [
    {
     "name": "stdout",
     "output_type": "stream",
     "text": [
      "The gru model has: 580 parameters.\n"
     ]
    }
   ],
   "source": [
    "n_hidden_gru = 10\n",
    "gru = GRU.GRU(7,n_hidden_gru,7)\n",
    "print('The gru model has: '+str(gru.n_parameters)+' parameters.')"
   ]
  },
  {
   "cell_type": "markdown",
   "metadata": {},
   "source": [
    "## Training loop\n",
    "We apply a simple training process."
   ]
  },
  {
   "cell_type": "code",
   "execution_count": 10,
   "metadata": {
    "collapsed": false
   },
   "outputs": [
    {
     "name": "stdout",
     "output_type": "stream",
     "text": [
      "Iteration 0: error of 29.454044, lr of 0.001000\n",
      "Iteration 100: error of 4.715414, lr of 0.001000\n",
      "Iteration 200: error of 4.124069, lr of 0.001000\n",
      "Iteration 300: error of 4.035823, lr of 0.001000\n",
      "Iteration 400: error of 3.978227, lr of 0.001000\n",
      "Iteration 500: error of 3.879081, lr of 0.001000\n",
      "Iteration 600: error of 3.695756, lr of 0.001000\n",
      "Iteration 700: error of 3.607477, lr of 0.001000\n",
      "Iteration 800: error of 3.576943, lr of 0.001000\n",
      "Iteration 900: error of 3.561235, lr of 0.001000\n"
     ]
    }
   ],
   "source": [
    "gru.reset()\n",
    "n_epochs = 1000\n",
    "lr = 0.001\n",
    "\n",
    "epsilon = 1e-5\n",
    "\n",
    "h0 = np.zeros(n_hidden_gru)\n",
    "\n",
    "last_err = 0.0\n",
    "for i in range(n_epochs):\n",
    "    dataset_err = []\n",
    "    for d in dataset:\n",
    "        dataset_err.append(gru.train_step(h0,d[1],d[2],lr)[2])\n",
    "    \n",
    "    mean_err = np.mean(dataset_err)\n",
    "    \n",
    "    if i != 0 and last_err - mean_err < 0:\n",
    "        lr /= 2\n",
    "    \n",
    "    if i%(n_epochs/10) == 0:\n",
    "        print \"Iteration %d: error of %f, lr of %f\" % (i, mean_err, lr)\n",
    "    \n",
    "    if abs(last_err-mean_err) < epsilon:\n",
    "        print \"Early stopping, iteration %d: error of %f, lr of %f\" % (i, mean_err, lr)\n",
    "        break\n",
    "    \n",
    "    last_err = mean_err"
   ]
  },
  {
   "cell_type": "markdown",
   "metadata": {},
   "source": [
    "### Plotting results for GRU RNNs"
   ]
  },
  {
   "cell_type": "code",
   "execution_count": 11,
   "metadata": {
    "collapsed": false
   },
   "outputs": [
    {
     "data": {
      "image/png": "[encoded data removed]",
      "text/plain": [
       "<matplotlib.figure.Figure at 0x7fed7e6227d0>"
      ]
     },
     "metadata": {},
     "output_type": "display_data"
    }
   ],
   "source": [
    "to_show = ['BPBTXSE','BTBTXSE']\n",
    "reber_heatmap(gru, to_show, False)"
   ]
  },
  {
   "cell_type": "code",
   "execution_count": 12,
   "metadata": {
    "collapsed": false
   },
   "outputs": [
    {
     "data": {
      "image/png": "[encoded data removed]",
      "text/plain": [
       "<matplotlib.figure.Figure at 0x7fed7e622090>"
      ]
     },
     "metadata": {},
     "output_type": "display_data"
    }
   ],
   "source": [
    "reber_heatmap(gru, to_show, True)"
   ]
  },
  {
   "cell_type": "markdown",
   "metadata": {},
   "source": [
    "# Gradient repartition\n",
    "The idea transcripted in the IARIA paper is that we cannot explain this difference of performance uniquely with learning and degenerated (vanishing/exploding) gradient arguments.     \n",
    "Here are the gradient repartition of the above models.   \n",
    "We plot histograms that show the repartition of the gradient parameters of both models at different scales.   \n",
    "The similarity of the distribution discards the gradient propagation as the explanation for Vanilla doing poorly.\n",
    "## Gradient routine\n",
    "The following code grab all the gradient values of a model."
   ]
  },
  {
   "cell_type": "code",
   "execution_count": 13,
   "metadata": {
    "collapsed": true
   },
   "outputs": [],
   "source": [
    "def grab_grad(model,n_hidden_p):\n",
    "    global dataset\n",
    "    to_return = []\n",
    "    h0 = np.zeros(n_hidden_p)\n",
    "    for i in range(len(dataset)):\n",
    "        grads = np.array(model.bptt(dataset[i][1], dataset[i][2], h0))\n",
    "        for grad in grads:\n",
    "            for elem in grad.flatten():\n",
    "                to_return.append(elem)\n",
    "    return np.array(to_return)"
   ]
  },
  {
   "cell_type": "markdown",
   "metadata": {},
   "source": [
    "## Vanilla's gradient VS GRU's gradient"
   ]
  },
  {
   "cell_type": "code",
   "execution_count": 14,
   "metadata": {
    "collapsed": false
   },
   "outputs": [],
   "source": [
    "grad_val_v = grab_grad(rnn,n_hidden)\n",
    "grad_val_gru = grab_grad(gru,n_hidden_gru)"
   ]
  },
  {
   "cell_type": "code",
   "execution_count": 15,
   "metadata": {
    "collapsed": false
   },
   "outputs": [
    {
     "data": {
      "image/png": "[encoded data removed]",
      "text/plain": [
       "<matplotlib.figure.Figure at 0x7fed7c8f61d0>"
      ]
     },
     "metadata": {},
     "output_type": "display_data"
    }
   ],
   "source": [
    "from matplotlib.font_manager import FontProperties\n",
    "fig = plt.figure(figsize=(15,8))\n",
    "ax1 = fig.add_subplot(4, 2, 1)\n",
    "ax2 = fig.add_subplot(4, 2, 3)\n",
    "ax3 = fig.add_subplot(4, 2, 5)\n",
    "ax4 = fig.add_subplot(4, 2, 7)\n",
    "n, bins, patches = ax1.hist(grad_val_v,range=[0, 4],label='Vanilla')\n",
    "ax1.legend()\n",
    "n, bins, patches = ax2.hist(grad_val_v,range=[0, 0.5])\n",
    "n, bins, patches = ax3.hist(grad_val_v,range=[0, 0.002])\n",
    "n, bins, patches = ax4.hist(grad_val_v,range=[0, 0.0005])\n",
    "ax1p = fig.add_subplot(4, 2, 2)\n",
    "ax2p = fig.add_subplot(4, 2, 4)\n",
    "ax3p = fig.add_subplot(4, 2, 6)\n",
    "ax4p = fig.add_subplot(4, 2, 8)\n",
    "n, bins, patches = ax1p.hist(grad_val_gru,range=[0, 4], color='red', label='GRU')\n",
    "ax1p.legend()\n",
    "n, bins, patches = ax2p.hist(grad_val_gru,range=[0, 0.5], color='red')\n",
    "n, bins, patches = ax3p.hist(grad_val_gru,range=[0, 0.002], color='red')\n",
    "n, bins, patches = ax4p.hist(grad_val_gru,range=[0, 0.0005], color='red')"
   ]
  },
  {
   "cell_type": "code",
   "execution_count": null,
   "metadata": {
    "collapsed": true
   },
   "outputs": [],
   "source": []
  }
 ],
 "metadata": {
  "kernelspec": {
   "display_name": "Python 2",
   "language": "python",
   "name": "python2"
  },
  "language_info": {
   "codemirror_mode": {
    "name": "ipython",
    "version": 2
   },
   "file_extension": ".py",
   "mimetype": "text/x-python",
   "name": "python",
   "nbconvert_exporter": "python",
   "pygments_lexer": "ipython2",
   "version": "2.7.9"
  }
 },
 "nbformat": 4,
 "nbformat_minor": 0
}
